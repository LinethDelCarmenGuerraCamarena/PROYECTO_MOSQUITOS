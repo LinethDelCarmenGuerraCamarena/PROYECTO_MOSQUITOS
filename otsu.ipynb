{
 "cells": [
  {
   "cell_type": "code",
   "execution_count": 23,
   "id": "e924088d-0dfb-4116-99c7-e455a4a8bab8",
   "metadata": {},
   "outputs": [
    {
     "name": "stdout",
     "output_type": "stream",
     "text": [
      "Procesamiento completado. Imágenes guardadas en 'alas_neon'\n"
     ]
    }
   ],
   "source": [
    "import cv2\n",
    "import numpy as np\n",
    "from pathlib import Path\n",
    "\n",
    "# Carpetas de entrada y salida\n",
    "input_folder = Path(\"alas_png\")\n",
    "output_folder = Path(\"alas_neon\")\n",
    "output_folder.mkdir(exist_ok=True)\n",
    "\n",
    "# Procesar todas las imágenes PNG de la carpeta\n",
    "for img_path in input_folder.glob(\"*.png\"):\n",
    "    # --- Cargar imagen ---\n",
    "    img = cv2.imread(str(img_path))\n",
    "    if img is None:\n",
    "        continue\n",
    "\n",
    "    # Escala de grises + suavizado\n",
    "    gray = cv2.cvtColor(img, cv2.COLOR_BGR2GRAY)\n",
    "    blur = cv2.GaussianBlur(gray, (5,5), 0)\n",
    "\n",
    "    # Segmentación binaria (Otsu)\n",
    "    _, mask = cv2.threshold(blur, 0, 255, cv2.THRESH_BINARY + cv2.THRESH_OTSU)\n",
    "    mask = cv2.bitwise_not(mask)\n",
    "\n",
    "    # --- Extraer ala sobre fondo negro ---\n",
    "    ala_segmentada = cv2.bitwise_and(img, img, mask=mask)\n",
    "\n",
    "    # --- Aplicar efecto neón ---\n",
    "    ala_gray = cv2.cvtColor(ala_segmentada, cv2.COLOR_BGR2GRAY)\n",
    "    neon = cv2.applyColorMap(ala_gray, cv2.COLORMAP_PLASMA)\n",
    "    ala_neon = cv2.bitwise_and(neon, neon, mask=mask)\n",
    "\n",
    "    # --- Fondo negro ---\n",
    "    h, w, _ = img.shape\n",
    "    fondo_negro = np.zeros((h, w, 3), dtype=np.uint8)\n",
    "\n",
    "    # --- Estrellas de colores ---\n",
    "    stars = fondo_negro.copy()\n",
    "    mask_stars = np.random.rand(h, w) < 0.0015\n",
    "    rand_colors = np.random.randint(150, 256, (np.sum(mask_stars), 3))\n",
    "    stars[mask_stars] = rand_colors\n",
    "\n",
    "    # --- Combinar ala + estrellas ---\n",
    "    resultado = cv2.addWeighted(fondo_negro, 1.0, stars, 1.0, 0)\n",
    "    resultado = cv2.addWeighted(resultado, 1.0, ala_neon, 1.2, 0)\n",
    "\n",
    "    # --- Guardar en carpeta de salida ---\n",
    "    out_path = output_folder / img_path.name\n",
    "    cv2.imwrite(str(out_path), resultado)\n",
    "\n",
    "print(\"Procesamiento completado. Imágenes guardadas en 'alas_neon'\")"
   ]
  }
 ],
 "metadata": {
  "kernelspec": {
   "display_name": "Python 3 (ipykernel)",
   "language": "python",
   "name": "python3"
  },
  "language_info": {
   "codemirror_mode": {
    "name": "ipython",
    "version": 3
   },
   "file_extension": ".py",
   "mimetype": "text/x-python",
   "name": "python",
   "nbconvert_exporter": "python",
   "pygments_lexer": "ipython3",
   "version": "3.12.3"
  }
 },
 "nbformat": 4,
 "nbformat_minor": 5
}
