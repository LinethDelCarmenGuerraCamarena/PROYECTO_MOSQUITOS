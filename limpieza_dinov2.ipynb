{
  "nbformat": 4,
  "nbformat_minor": 0,
  "metadata": {
    "colab": {
      "provenance": [],
      "machine_shape": "hm",
      "gpuType": "L4",
      "runtime_attributes": {
        "runtime_version": "2025.07"
      }
    },
    "kernelspec": {
      "name": "python3",
      "display_name": "Python 3"
    },
    "language_info": {
      "name": "python"
    },
    "accelerator": "GPU"
  },
  "cells": [
    {
      "cell_type": "code",
      "execution_count": null,
      "metadata": {
        "id": "s03pnDLa1gN5"
      },
      "outputs": [],
      "source": [
        "from google.colab import drive\n",
        "import torch\n",
        "import cv2\n",
        "import numpy as np\n",
        "from PIL import Image\n",
        "import torchvision.transforms as T\n",
        "import os\n",
        "import matplotlib.pyplot as plt"
      ]
    },
    {
      "cell_type": "code",
      "source": [
        "drive.mount('/content/drive')\n",
        "DATA_PATH = '/content/drive/MyDrive/PROYECTO FINAL/dataset'\n",
        "os.chdir(DATA_PATH)"
      ],
      "metadata": {
        "id": "2IyoRJ2z6ZBJ"
      },
      "execution_count": null,
      "outputs": []
    },
    {
      "cell_type": "markdown",
      "source": [
        "## LIMPIAR FONDO"
      ],
      "metadata": {
        "id": "YjrMpZKsaLjV"
      }
    },
    {
      "cell_type": "code",
      "source": [
        "dinov2_vits14 = torch.hub.load(\"facebookresearch/dinov2\", \"dinov2_vits14\")\n",
        "device = torch.device('cuda' if torch.cuda.is_available() else 'cpu')\n",
        "dinov2_vits14.to(device)\n",
        "dinov2_vits14.eval()"
      ],
      "metadata": {
        "id": "CziOMTYjgEV4"
      },
      "execution_count": null,
      "outputs": []
    },
    {
      "cell_type": "code",
      "source": [
        "# Transformación de entrada\n",
        "transform = T.Compose([\n",
        "    T.Resize((518, 518)),\n",
        "    T.ToTensor(),\n",
        "    T.Normalize(mean=[0.485, 0.456, 0.406],\n",
        "                std=[0.229, 0.224, 0.225]),\n",
        "])\n",
        "\n",
        "def limpiar_fondo_dino(img_path, output_path, threshold=0.1, alpha=True, blur_size=5, visualize=False):\n",
        "    \"\"\"\n",
        "    Elimina el fondo de una imagen usando DINOv2.\n",
        "    threshold: umbral para la máscara (0.05-0.2 recomendado)\n",
        "    blur_size: tamaño del kernel Gaussiano para suavizar la máscara\n",
        "    visualize: si True muestra el mapa de activación\n",
        "    \"\"\"\n",
        "    pil_img = Image.open(img_path).convert(\"RGB\")\n",
        "    orig_img = np.array(pil_img)\n",
        "\n",
        "    # Preprocesar\n",
        "    inp = transform(pil_img).unsqueeze(0).to(device)\n",
        "    with torch.no_grad():\n",
        "        feats = dinov2_vits14(inp)\n",
        "\n",
        "    # Mapa de activación promedio por canal\n",
        "    activation_map = feats.mean(1).squeeze().cpu().numpy()\n",
        "    activation_map = np.nan_to_num(activation_map, nan=0.0, posinf=1.0, neginf=0.0)\n",
        "\n",
        "    # Normalizar\n",
        "    if activation_map.max() - activation_map.min() != 0:\n",
        "        activation_map = (activation_map - activation_map.min()) / (activation_map.max() - activation_map.min())\n",
        "    else:\n",
        "        activation_map = np.zeros_like(activation_map)\n",
        "\n",
        "    # Suavizar para no perder pequeñas partes del ala\n",
        "    activation_map = cv2.GaussianBlur(activation_map, (blur_size, blur_size), 0)\n",
        "\n",
        "    # Redimensionar al tamaño original\n",
        "    activation_map = cv2.resize(activation_map, (orig_img.shape[1], orig_img.shape[0]))\n",
        "\n",
        "    # Visualizar mapa de activación (opcional)\n",
        "    if visualize:\n",
        "        plt.imshow(activation_map, cmap='hot')\n",
        "        plt.colorbar()\n",
        "        plt.show()\n",
        "\n",
        "    # Crear máscara binaria\n",
        "    mask = (activation_map > threshold).astype(np.uint8)\n",
        "\n",
        "    # Aplicar máscara\n",
        "    if alpha:\n",
        "        result = cv2.cvtColor(orig_img, cv2.COLOR_RGB2BGRA)\n",
        "        result[:, :, 3] = mask * 255\n",
        "    else:\n",
        "        result = orig_img.copy()\n",
        "        result[mask == 0] = 255\n",
        "\n",
        "    # Guardar imagen\n",
        "    cv2.imwrite(output_path, cv2.cvtColor(result, cv2.COLOR_RGB2BGRA) if alpha else cv2.cvtColor(result, cv2.COLOR_RGB2BGR))"
      ],
      "metadata": {
        "id": "Hv_VHLhocBSu"
      },
      "execution_count": null,
      "outputs": []
    },
    {
      "cell_type": "code",
      "source": [
        "input_dir = \"/content/drive/MyDrive/PROYECTO FINAL/dataset/alas_png\"\n",
        "output_dir = \"/content/drive/MyDrive/PROYECTO FINAL/dataset/alas_limpias\"\n",
        "os.makedirs(output_dir, exist_ok=True)\n",
        "\n",
        "for file in os.listdir(input_dir):\n",
        "    if file.lower().endswith(\".png\"):\n",
        "        in_path = os.path.join(input_dir, file)\n",
        "        out_path = os.path.join(output_dir, file)\n",
        "        limpiar_fondo_dino(in_path, out_path, threshold=0.1, alpha=True, blur_size=5, visualize=False)\n",
        "\n",
        "print(\"Todas las alas fueron procesadas correctamente con fondo transparente.\")"
      ],
      "metadata": {
        "id": "IYpoT0i6fmW0"
      },
      "execution_count": null,
      "outputs": []
    }
  ]
}